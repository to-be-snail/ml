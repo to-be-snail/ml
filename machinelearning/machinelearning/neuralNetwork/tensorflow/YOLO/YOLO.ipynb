{
 "cells": [
  {
   "cell_type": "code",
   "execution_count": 2,
   "metadata": {
    "collapsed": false
   },
   "outputs": [
    {
     "data": {
      "text/plain": [
       "'\\nThis data is copied on https://github.com/ruiminshen/yolo-tf/tree/master/model/yolo\\njust for exercise and be familiar with YOLO network\\n'"
      ]
     },
     "execution_count": 2,
     "metadata": {},
     "output_type": "execute_result"
    }
   ],
   "source": [
    "\"\"\"\n",
    "This data is copied on https://github.com/ruiminshen/yolo-tf/tree/master/model/yolo\n",
    "just for exercise and be familiar with YOLO network\n",
    "\"\"\""
   ]
  },
  {
   "cell_type": "code",
   "execution_count": 3,
   "metadata": {
    "collapsed": true
   },
   "outputs": [],
   "source": [
    "import tensorflow as tf"
   ]
  },
  {
   "cell_type": "code",
   "execution_count": 5,
   "metadata": {
    "collapsed": true
   },
   "outputs": [],
   "source": [
    "#define leaky_relu function\n",
    "def leaky_relu(inputs,alpha=.1):\n",
    "    with tf.name_scope('leaky_relu') as name:\n",
    "        data = tf.identity(inputs,name='data')\n",
    "        return tf.maximum(data,alpha*data,name=name)"
   ]
  },
  {
   "cell_type": "code",
   "execution_count": 6,
   "metadata": {
    "collapsed": true
   },
   "outputs": [],
   "source": [
    "#reference\n",
    "import inspect\n",
    "import tensorflow.contrib.slim as slim\n"
   ]
  },
  {
   "cell_type": "code",
   "execution_count": 11,
   "metadata": {
    "collapsed": false
   },
   "outputs": [],
   "source": [
    "def tiny_YOLO(net,classes,boxes_per_cell,training=False):\n",
    "    scope = __name__.split('.')[-2] + ' _' + inspect.stack()[0][3]\n",
    "    net = tf.identity(net,name='%s/inpt' % scope)\n",
    "    #convolutional layer\n",
    "    with slim.arg_scope([slim.layers.conv2d],kernel_size=[3,3],activation_fn=leaky_relu),slim.arg_scope([slim.layers.max_pool2d],kernal_size=[2,2],padding='SAME'):\n",
    "        index = 0\n",
    "        net = slim.layers.conv2d(net,16,scope='%s/conv%d' % (scope,index))\n",
    "        net = slim.layers.max_pool2d(net,scope='%s/maxpool%d' % (scope,index))\n",
    "        index+=1\n",
    "        net = slim.layers.conv2d(net,32,scope='%s/conv%d' % (scope,index))\n",
    "        net = slim.layers.max_pool2d(net,scope='%s/maxpool' % (scope,index))\n",
    "        index+=1\n",
    "        net = slim.layers.conv2d(net,64,scope='%s/conv%d' % (scope,index))\n",
    "        net = slim.layers.max_pool2d(net,scope='%s/maxpool' % (scope,index))\n",
    "        index+=1\n",
    "        net = slim.layers.conv2d(net,128,scope='%s/conv%d' % (scope,index))\n",
    "        net = slim.layers.max_pool2d(net,scope='%s/maxpool' % (scope,index))\n",
    "        index+=1\n",
    "        net = slim.layers.conv2d(net,256,scope='%s/conv%d' % (scope,index))\n",
    "        net = slim.layers.max_pool2d(net,scope='%s/maxpool' % (scope,index))\n",
    "        index+=1\n",
    "        net = slim.layers.conv2d(net,512,scope='%s/conv%d' % (scope,index))\n",
    "        net = slim.layers.max_pool2d(net,scope='%s/maxpool' % (scope,index))\n",
    "        index+=1\n",
    "        net = slim.layers.conv2d(net,512,scope='%s/conv%d' % (scope,index))\n",
    "        index+=1\n",
    "        net = slim.layers.conv2d(net,1024,scope='%s/conv%d' % (scope,index))\n",
    "        index+=1\n",
    "        net = slim.layers.conv2d(net,256,scope='%s/conv%d' % (scope,index))\n",
    "        \n",
    "    net = tf.identity(net,name='%s/conv' % scope)\n",
    "    _,cell_height,cell_width,_ = net.get_shape().as_list()\n",
    "    #FULL_CONNECTED LAYER\n",
    "    net = slim.layers.flatten(net,scope='%s/flatten' % scope)\n",
    "    with slim.arg_scope([slim.layers.fully_connected],activation_fn=leaky_relu,weights_regularizer=slim.l2_regularizer(0.001)),slim.arg_scope([slim.layers.dropout],keep_prob=0.5,is_training=training):\n",
    "        index = 0\n",
    "        net = slim.layers.fully_connected(net,256,scope='%s/fc%d' % (scope,index))\n",
    "        net = slim.layers.dropout(net,scope='%s/dropout%d' % (scope,index))\n",
    "        index+=1\n",
    "        net = slim.layers.fully_connected(net,4096,scope='%s/fc%d' %(scope,index))\n",
    "        net = slim.layers.dropout(net,scope='%s/dropout%d' % (scope,index))\n",
    "    net = slim.layers.fully_connected(net,cell_width*cell_height*(classes+boxes_per_cell*5),\n",
    "                                     activation_fn=None,scopes='%s/fc' % scope)\n",
    "    net = tf.identity(net,name='%s/output' % scope)\n",
    "    return scope,net"
   ]
  },
  {
   "cell_type": "code",
   "execution_count": 12,
   "metadata": {
    "collapsed": true
   },
   "outputs": [],
   "source": [
    "TINY_DOWNSAMPLING = (2 ** 6,2 ** 6)"
   ]
  },
  {
   "cell_type": "code",
   "execution_count": 15,
   "metadata": {
    "collapsed": false
   },
   "outputs": [],
   "source": [
    "#init.py\n",
    "import configparser\n",
    "import os\n",
    "import re\n",
    "import math\n",
    "import numpy as np\n",
    "import pandas as pd\n",
    "import matplotlib\n",
    "#import utils"
   ]
  },
  {
   "cell_type": "code",
   "execution_count": 16,
   "metadata": {
    "collapsed": true
   },
   "outputs": [],
   "source": [
    "def calc_cell_xy(cell_height,cell_width,dtype=np.float32):\n",
    "    cell_base = np.zeros([cell_height,cell_width,2],dtype=dtype)\n",
    "    for y in range(cell_height):\n",
    "        for x in range(cell_width):\n",
    "            cell_base[y,x,:]= [x,y]\n",
    "    return cell_base"
   ]
  },
  {
   "cell_type": "code",
   "execution_count": 17,
   "metadata": {
    "collapsed": true
   },
   "outputs": [],
   "source": [
    "class YOLO_Model(object):\n",
    "    def __init__(self,net,scope,classes,boxes_per_cell,training=False):\n",
    "        _,self.cell_height,self.cell_width,_ = tf.get_default_graph().get_tensor_by_name(scope+'/conv:0').get_shape().as_list()\n",
    "        cells = self.cell_height*self.cell_width\n",
    "        with tf.name_scope('regress'):\n",
    "            with tf.name_scope('inputs'):\n",
    "                end = cells*classes\n",
    "                self.prob = tf.reshape(net[:,:end],[-1,cells,1,classes],name='prob')\n",
    "                inputs_remaining = tf.reshape(net[:,end:],[-1,cells,boxes_per_cell,5],name='inputs_remaining')\n",
    "                self.iou = tf.identity(inputs_remaining[:,:,:,0],name='iou')\n",
    "                self.offset_xy = tf.identity(inputs_remaining[:,:,:,1:3],name='offset_xy')\n",
    "                wh01_sqrt_base = tf.identity(inputs_remaining[:,:,:,3:],name='wh01_sqrt_Base')\n",
    "            wh01 = tf.squart(wh01_sqrt_base,name='wh01')\n",
    "            wh01_sqrt = tf.abs(wh01_sqrt_base,name='wh01_sqrt')\n",
    "            self.coords = tf.concat([self.offset_xy,wh01_sqrt],-1,name='coords')\n",
    "            self.wh = tf.identity(wh01*[self.cell_width,self,cell_height],name='wh')\n",
    "            _wh = self.wh/2\n",
    "            self.offset_xy_min = tf.identity(self.offset_xy-_wh,name='offset_xy_min')\n",
    "            self.offset_xy_max = tf.identity(self.offset_xy+_wh,name='offset_xy_max')\n",
    "            self.areas = tf.reduce_prod(self.wh,-1,name='areas')\n",
    "        if not training:\n",
    "            with tf.name_scope('detection'):\n",
    "                cell_xy = calc_cell_xy(self.cell_height,self.cell_width).reshape([1,cells,1,2])\n",
    "                self.xy = tf.identity(cell_xy+self.offset_xy,name='xy')\n",
    "                self.xy_min = tf.identity(cell_xy+self.offset_xy_min,name='xy_min')\n",
    "                self.xy_max = tf.identity(cell_xy+self.offset_xy_max,name='xy_max')\n",
    "                self.conf = tf.identity(tf.expand_dims(self.iou,-1)*self.prob,name='conf')\n",
    "        self.inputs = net\n",
    "        self.classes = classes\n",
    "        self.boxes_per_cell = boxes_per_cell"
   ]
  },
  {
   "cell_type": "code",
   "execution_count": 18,
   "metadata": {
    "collapsed": true
   },
   "outputs": [],
   "source": [
    "class Objectives(dict):\n",
    "    def __init__(self,model,mask,prob,coords,offset_xy_min,offset_xy_max,areas):\n",
    "        self.model = model\n",
    "        with tf.name_scope('true'):\n",
    "            self.mask = tf.identity(mask,name='mask')\n",
    "            self.prob = tf.identity(prob,name='prob')\n",
    "            self.coords = tf.identity(coords,name='coords')\n",
    "            self.offset_xy_min = tf.identity(offset_xy_min,name='offset_xy_min')\n",
    "            self.offset_xy_max = tf.identity(offset_xy_max,name='offset_xy_max')\n",
    "            self.areas = tf.identity(areas,name='areas')\n",
    "        with tf.name_scope('iou') as name:\n",
    "            _offset_xy_min = tf.maximum(model.offset_xy_min,self.offset_xy_min,name='_offset_xy_min')\n",
    "            _offset_xy_max = tf.minimum(model.offset_xy_max,self.offset_xy_max,name='_offset_xy_max')\n",
    "            _wh = tf.maximum(_offset_xy_max-_offset_xy_min,0.0,name='_wh')\n",
    "            _areas = tf.reduce_prod(_wh,-1,name='_areas')\n",
    "            areas = tf.maximum(self.areas+model.areas-_areas,1e-10,name='areas')\n",
    "            iou = tf.truediv(_areas,areas,name=name)\n",
    "        with tf.name_scope('mask'):\n",
    "            best_box_iou = tf.reduce_max(iou,2,True,name='best_box_iou')\n",
    "            best_box = tf.to_float(tf.equal(iou,best_box_iou),name='best_box')\n",
    "            mask_best = tf.identity(self.mask*best_box,name='mask_best')\n",
    "            mask_normal = tf.identity(1-mask_best,name='mask_normal')\n",
    "        with tf.name_scope('dist'):\n",
    "            iou_dist = tf.square(model.iou-mask_best,name='iou_dist')\n",
    "            coords_dist = tf.square(model.coords-self.coords,name='coords_dist')\n",
    "            prob_dist = tf.square(model.prob-self,prob,name='prob_dist')\n",
    "        with tf.name_scope('objectives'):\n",
    "            cnt = np.multiply.reduce(iou_dist.get_shape().list())\n",
    "            self['iou_best'] = tf.identity(tf.reduce_sum(mask_best*iou_dist)/cnt,name='iou_best')\n",
    "            self['iou_normal'] = tf.identity(tf.reduce_sum(mask_normal*iou_dist)/cnt,name='iou_normal')\n",
    "            self['coords'] = tf.identity(tf.reduce_sum(tf.expand_dims(mask_best,-1)*coords_dist)/cnt,name='coords')\n",
    "            self['prob'] = tf.identity(tf.reduce_sum(tf.expand_dims(self.mask,-1)*prob_dist)/cnt,name='prob')\n",
    "            "
   ]
  },
  {
   "cell_type": "code",
   "execution_count": 19,
   "metadata": {
    "collapsed": true
   },
   "outputs": [],
   "source": [
    "class Builder(object):\n",
    "    def __init__(self,args,config):\n",
    "        section = __name__.split('.')[-1]\n",
    "        self.args = args\n",
    "        self.config = config\n",
    "        with open(os.path.join(matplotlib.get_cachedir(config),'names'),'r') as f:\n",
    "            self.names = [line.strip() for line in f]\n",
    "        self.boxes_per_cell = config.getint(section,'boxes_per_cell')\n",
    "        self.func = getattr(inference,config.get(section,'inference'))\n",
    "    \n",
    "    def __call__(self,data,training=False):\n",
    "        _scope,self.output = self.func(data,len(self.names),self.boxes_per_cell,training=training)\n",
    "        with tf.name_scope(__name__.split('.')[-1]):\n",
    "            self.model = Model(self.output,_scope,len(self.names),self.boxes_per_cell)\n",
    "            \n",
    "    def creative_objectives(self,labels):\n",
    "        section = __name__.split('.')[-1]\n",
    "        self.objectives = Objectives(self,model,*labels)\n",
    "        with tf.name_scope('weighted_objectives'):\n",
    "            for key in self.objectives:\n",
    "                tf.add_to_collection(tf.GraphKeys.LOSSES,tf.multiply(self,objectives[key],self.config.getfloat(section+'_hparam',key),name='weighted_'+key))"
   ]
  },
  {
   "cell_type": "code",
   "execution_count": null,
   "metadata": {
    "collapsed": true
   },
   "outputs": [],
   "source": []
  }
 ],
 "metadata": {
  "kernelspec": {
   "display_name": "Python 3",
   "language": "python",
   "name": "python3"
  },
  "language_info": {
   "codemirror_mode": {
    "name": "ipython",
    "version": 3
   },
   "file_extension": ".py",
   "mimetype": "text/x-python",
   "name": "python",
   "nbconvert_exporter": "python",
   "pygments_lexer": "ipython3",
   "version": "3.6.0"
  }
 },
 "nbformat": 4,
 "nbformat_minor": 2
}
